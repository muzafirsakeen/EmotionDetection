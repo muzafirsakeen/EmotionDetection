{
 "cells": [
  {
   "cell_type": "code",
   "execution_count": 1,
   "metadata": {},
   "outputs": [],
   "source": [
    "import numpy as np\n",
    "from keras.models import load_model\n",
    "import cv2\n",
    "from keras.preprocessing import image\n",
    "from keras.preprocessing.image import img_to_array\n",
    "from time import sleep"
   ]
  },
  {
   "cell_type": "code",
   "execution_count": 2,
   "metadata": {},
   "outputs": [],
   "source": [
    "face_classifier = cv2.CascadeClassifier(r'haarcascade_frontalface_default.xml')\n",
    "classifier =load_model(r'model.h5')\n",
    "\n",
    "emotion_labels = ['Angry','Disgust','Fear','Happy','Neutral', 'Sad', 'Surprise']\n",
    "\n",
    "cap = cv2.VideoCapture(0)\n",
    "\n",
    "\n",
    "while True:\n",
    "    _, frame = cap.read()\n",
    "    labels = []\n",
    "    gray = cv2.cvtColor(frame,cv2.COLOR_BGR2GRAY)\n",
    "    \n",
    "    faces = face_classifier.detectMultiScale(gray)\n",
    "\n",
    "    for (x,y,w,h) in faces:\n",
    "        cv2.rectangle(frame,(x,y),(x+w,y+h),(0,255,255),2)\n",
    "        roi_gray = gray[y:y+h,x:x+w]\n",
    "        roi_gray = cv2.resize(roi_gray,(48,48),interpolation=cv2.INTER_AREA)\n",
    "\n",
    "\n",
    "\n",
    "        if np.sum([roi_gray])!=0:\n",
    "            roi = roi_gray.astype('float')/255.0\n",
    "            roi = img_to_array(roi)\n",
    "            roi = np.expand_dims(roi,axis=0)\n",
    "\n",
    "            prediction = classifier.predict(roi)[0]\n",
    "            label=emotion_labels[prediction.argmax()]\n",
    "            label_position = (x,y-10)\n",
    "            cv2.putText(frame,label,label_position,cv2.FONT_HERSHEY_SIMPLEX,1,(0,255,0),2)\n",
    "        else:\n",
    "            cv2.putText(frame,'No Faces',(30,80),cv2.FONT_HERSHEY_SIMPLEX,1,(0,255,0),2)\n",
    "    cv2.imshow('Emotion Detector',frame)\n",
    "    if cv2.waitKey(1) & 0xFF == ord('q'):\n",
    "        break\n",
    "\n",
    "cap.release()\n",
    "cv2.destroyAllWindows()"
   ]
  },
  {
   "cell_type": "markdown",
   "metadata": {},
   "source": [
    "prediction output\n"
   ]
  },
  {
   "cell_type": "code",
   "execution_count": 3,
   "metadata": {},
   "outputs": [
    {
     "name": "stdout",
     "output_type": "stream",
     "text": [
      "[7.1401852e-03 7.1008061e-04 7.1534999e-03 9.5346034e-01 1.7856866e-02\n",
      " 8.8109588e-03 4.8681176e-03]\n",
      "Happy\n"
     ]
    }
   ],
   "source": [
    "print (prediction)\n",
    "print(label)"
   ]
  },
  {
   "cell_type": "code",
   "execution_count": null,
   "metadata": {},
   "outputs": [],
   "source": []
  },
  {
   "cell_type": "code",
   "execution_count": null,
   "metadata": {},
   "outputs": [],
   "source": []
  },
  {
   "cell_type": "markdown",
   "metadata": {},
   "source": [
    "pip install pydub"
   ]
  },
  {
   "cell_type": "code",
   "execution_count": null,
   "metadata": {},
   "outputs": [
    {
     "name": "stdout",
     "output_type": "stream",
     "text": [
      "Playing wav file...\n",
      "Stopping playing\n",
      "Playing wav file...\n",
      "Stopping playing\n",
      "Playing wav file...\n"
     ]
    }
   ],
   "source": [
    "from pydub import AudioSegment\n",
    "from pydub.playback import play\n",
    "import random\n",
    "neutrals = ['neutral1.m4a','neutral2.m4a','neutral3.m4a']\n",
    "happies = ['happy1.m4a','happy2.m4a','happy3.m4a']\n",
    "angrys = []\n",
    "disgusts = []\n",
    "surprises = []\n",
    "fears = []\n",
    "sads=['sad1.m4a','sad3.m4a','sad2.m4a']\n",
    "i = 0\n",
    "# Input an existing wav filename\n",
    "\n",
    "#for Neutral\n",
    "if(label==\"Neutral\"):\n",
    "    for i in range(0,len(neutrals)):\n",
    "        wavFile =neutrals[i]\n",
    "        sound = AudioSegment.from_file(wavFile)\n",
    "        print(\"Playing wav file...\")\n",
    "    # play the fileagh\n",
    "        while True:\n",
    "            try:\n",
    "                play(sound)\n",
    "            except KeyboardInterrupt:\n",
    "                print (\"Stopping playing\")\n",
    "                break\n",
    "    \n",
    "    \n",
    "elif(label==\"Sad\"):\n",
    "    for i in range(0,len(sads)):\n",
    "        wavFile =sads[i]\n",
    "        sound = AudioSegment.from_file(wavFile)\n",
    "        print(\"Playing wav file...\")\n",
    "    # play the fileagh\n",
    "        while True:\n",
    "            try:\n",
    "                play(sound)\n",
    "            except KeyboardInterrupt:\n",
    "                print (\"Stopping playing\")\n",
    "                break\n",
    "    \n",
    "    \n",
    "    \n",
    "elif(label==\"Fear\"):\n",
    "    for i in range(0,len(fears)):\n",
    "        wavFile =fears[i]\n",
    "        sound = AudioSegment.from_file(wavFile)\n",
    "        print(\"Playing wav file...\")\n",
    "    # play the fileagh\n",
    "        while True:\n",
    "            try:\n",
    "                play(sound)\n",
    "            except KeyboardInterrupt:\n",
    "                print (\"Stopping playing\")\n",
    "                break\n",
    "    \n",
    "    \n",
    "    \n",
    "elif(label==\"Happy\"):\n",
    "    for i in range(0,len(happies)):\n",
    "        wavFile =happies[i]\n",
    "        sound = AudioSegment.from_file(wavFile)\n",
    "        print(\"Playing wav file...\")\n",
    "    # play the fileagh\n",
    "        while True:\n",
    "            try:\n",
    "                play(sound)\n",
    "            except KeyboardInterrupt:\n",
    "                print (\"Stopping playing\")\n",
    "                break\n",
    "    \n",
    "    \n",
    "    \n",
    "elif(label==\"Angry\"):\n",
    "    for i in range(0,len(angries)):\n",
    "        wavFile =angries[i]\n",
    "        sound = AudioSegment.from_file(wavFile)\n",
    "        print(\"Playing wav file...\")\n",
    "    # play the fileagh\n",
    "        while True:\n",
    "            try:\n",
    "                play(sound)\n",
    "            except KeyboardInterrupt:\n",
    "                print (\"Stopping playing\")\n",
    "                break\n",
    "    \n",
    "    \n",
    "    \n",
    "elif(label==\"Surprise\"):\n",
    "    for i in range(0,len(surprises)):\n",
    "        wavFile =surprises[i]\n",
    "        sound = AudioSegment.from_file(wavFile)\n",
    "        print(\"Playing wav file...\")\n",
    "    # play the fileagh\n",
    "        while True:\n",
    "            try:\n",
    "                play(sound)\n",
    "            except KeyboardInterrupt:\n",
    "                print (\"Stopping playing\")\n",
    "                break\n",
    "    \n",
    "    \n",
    "    \n",
    "elif(label==\"Disgust\"):\n",
    "    for i in range(0,len(disgust)):\n",
    "        wavFile =disgust[i]\n",
    "        sound = AudioSegment.from_file(wavFile)\n",
    "        print(\"Playing wav file...\")\n",
    "    # play the fileagh\n",
    "        while True:\n",
    "            try:\n",
    "                play(sound)\n",
    "            except KeyboardInterrupt:\n",
    "                print (\"Stopping playing\")\n",
    "                playback.stop()  \n",
    "                break"
   ]
  },
  {
   "cell_type": "code",
   "execution_count": null,
   "metadata": {},
   "outputs": [],
   "source": [
    "\n",
    "\n",
    "    "
   ]
  },
  {
   "cell_type": "code",
   "execution_count": null,
   "metadata": {},
   "outputs": [],
   "source": []
  },
  {
   "cell_type": "code",
   "execution_count": null,
   "metadata": {},
   "outputs": [],
   "source": []
  },
  {
   "cell_type": "code",
   "execution_count": null,
   "metadata": {},
   "outputs": [],
   "source": [
    "\n"
   ]
  },
  {
   "cell_type": "code",
   "execution_count": null,
   "metadata": {},
   "outputs": [],
   "source": []
  },
  {
   "cell_type": "code",
   "execution_count": null,
   "metadata": {},
   "outputs": [],
   "source": []
  }
 ],
 "metadata": {
  "kernelspec": {
   "display_name": "Python 3",
   "language": "python",
   "name": "python3"
  },
  "language_info": {
   "codemirror_mode": {
    "name": "ipython",
    "version": 3
   },
   "file_extension": ".py",
   "mimetype": "text/x-python",
   "name": "python",
   "nbconvert_exporter": "python",
   "pygments_lexer": "ipython3",
   "version": "3.8.5"
  }
 },
 "nbformat": 4,
 "nbformat_minor": 5
}
